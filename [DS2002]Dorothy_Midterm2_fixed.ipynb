{
 "cells": [
  {
   "cell_type": "code",
   "execution_count": null,
   "id": "96a32758-a290-44d3-9d24-05f1d2281c1b",
   "metadata": {},
   "outputs": [],
   "source": []
  },
  {
   "cell_type": "code",
   "execution_count": null,
   "id": "9cd5559f-9f0b-41d4-85c9-aade4072ccdb",
   "metadata": {},
   "outputs": [],
   "source": []
  },
  {
   "cell_type": "code",
   "execution_count": null,
   "id": "63a861f4-8bd1-4371-8f05-60719ef435ac",
   "metadata": {},
   "outputs": [],
   "source": []
  },
  {
   "cell_type": "code",
   "execution_count": 1,
   "id": "7b4c86d0-2b0d-4028-8c13-bc787cc943af",
   "metadata": {
    "execution": {
     "iopub.execute_input": "2025-03-21T02:12:25.289808Z",
     "iopub.status.busy": "2025-03-21T02:12:25.289234Z",
     "iopub.status.idle": "2025-03-21T02:12:25.297114Z",
     "shell.execute_reply": "2025-03-21T02:12:25.296239Z"
    }
   },
   "outputs": [],
   "source": [
    "# using python to perform ETL"
   ]
  },
  {
   "cell_type": "code",
   "execution_count": 2,
   "id": "bc9f82cb-cb55-42f4-930d-0308a970cc97",
   "metadata": {
    "execution": {
     "iopub.execute_input": "2025-03-21T02:12:25.302023Z",
     "iopub.status.busy": "2025-03-21T02:12:25.301537Z",
     "iopub.status.idle": "2025-03-21T02:14:57.379887Z",
     "shell.execute_reply": "2025-03-21T02:14:57.377998Z"
    }
   },
   "outputs": [
    {
     "name": "stdout",
     "output_type": "stream",
     "text": [
      "Defaulting to user installation because normal site-packages is not writeable\n"
     ]
    },
    {
     "name": "stderr",
     "output_type": "stream",
     "text": [
      "\u001b[0m\u001b[33mWARNING: Retrying (Retry(total=0, connect=None, read=None, redirect=None, status=None)) after connection broken by 'NewConnectionError('<pip._vendor.urllib3.connection.HTTPSConnection object at 0x7ecae7e21520>: Failed to establish a new connection: [Errno -3] Temporary failure in name resolution')': /simple/pymongo/\u001b[0m\u001b[33m\n"
     ]
    },
    {
     "name": "stderr",
     "output_type": "stream",
     "text": [
      "\u001b[33mWARNING: Retrying (Retry(total=4, connect=None, read=None, redirect=None, status=None)) after connection broken by 'NewConnectionError('<pip._vendor.urllib3.connection.HTTPSConnection object at 0x7ea94b458b60>: Failed to establish a new connection: [Errno -3] Temporary failure in name resolution')': /simple/pymongo/\u001b[0m\u001b[33m\n"
     ]
    },
    {
     "name": "stderr",
     "output_type": "stream",
     "text": [
      "\u001b[0m\u001b[31mERROR: Could not find a version that satisfies the requirement pymongo (from versions: none)\u001b[0m\u001b[31m\n"
     ]
    },
    {
     "name": "stderr",
     "output_type": "stream",
     "text": [
      "\u001b[0m\u001b[31mERROR: No matching distribution found for pymongo\u001b[0m\u001b[31m\n"
     ]
    },
    {
     "name": "stderr",
     "output_type": "stream",
     "text": [
      "\u001b[0m\u001b[33mWARNING: Retrying (Retry(total=3, connect=None, read=None, redirect=None, status=None)) after connection broken by 'NewConnectionError('<pip._vendor.urllib3.connection.HTTPSConnection object at 0x7ea94b45f2a0>: Failed to establish a new connection: [Errno -3] Temporary failure in name resolution')': /simple/pymongo/\u001b[0m\u001b[33m\n"
     ]
    },
    {
     "name": "stderr",
     "output_type": "stream",
     "text": [
      "\u001b[0m"
     ]
    },
    {
     "ename": "CalledProcessError",
     "evalue": "Command 'b'!pip install sqlalchemy\\n'' returned non-zero exit status 1.",
     "output_type": "error",
     "traceback": [
      "\u001b[0;31m---------------------------------------------------------------------------\u001b[0m",
      "\u001b[0;31mCalledProcessError\u001b[0m                        Traceback (most recent call last)",
      "Cell \u001b[0;32mIn[2], line 1\u001b[0m\n\u001b[0;32m----> 1\u001b[0m \u001b[43mget_ipython\u001b[49m\u001b[43m(\u001b[49m\u001b[43m)\u001b[49m\u001b[38;5;241;43m.\u001b[39;49m\u001b[43mrun_cell_magic\u001b[49m\u001b[43m(\u001b[49m\u001b[38;5;124;43m'\u001b[39;49m\u001b[38;5;124;43mpython\u001b[39;49m\u001b[38;5;124;43m'\u001b[39;49m\u001b[43m,\u001b[49m\u001b[43m \u001b[49m\u001b[38;5;124;43m'\u001b[39;49m\u001b[38;5;124;43m-m pip install pymongo\u001b[39;49m\u001b[38;5;124;43m'\u001b[39;49m\u001b[43m,\u001b[49m\u001b[43m \u001b[49m\u001b[38;5;124;43m'\u001b[39;49m\u001b[38;5;124;43m!pip install sqlalchemy\u001b[39;49m\u001b[38;5;130;43;01m\\n\u001b[39;49;00m\u001b[38;5;124;43m'\u001b[39;49m\u001b[43m)\u001b[49m\n",
      "File \u001b[0;32m~/.local/lib/python3.11/site-packages/IPython/core/interactiveshell.py:2541\u001b[0m, in \u001b[0;36mInteractiveShell.run_cell_magic\u001b[0;34m(self, magic_name, line, cell)\u001b[0m\n\u001b[1;32m   2539\u001b[0m \u001b[38;5;28;01mwith\u001b[39;00m \u001b[38;5;28mself\u001b[39m\u001b[38;5;241m.\u001b[39mbuiltin_trap:\n\u001b[1;32m   2540\u001b[0m     args \u001b[38;5;241m=\u001b[39m (magic_arg_s, cell)\n\u001b[0;32m-> 2541\u001b[0m     result \u001b[38;5;241m=\u001b[39m \u001b[43mfn\u001b[49m\u001b[43m(\u001b[49m\u001b[38;5;241;43m*\u001b[39;49m\u001b[43margs\u001b[49m\u001b[43m,\u001b[49m\u001b[43m \u001b[49m\u001b[38;5;241;43m*\u001b[39;49m\u001b[38;5;241;43m*\u001b[39;49m\u001b[43mkwargs\u001b[49m\u001b[43m)\u001b[49m\n\u001b[1;32m   2543\u001b[0m \u001b[38;5;66;03m# The code below prevents the output from being displayed\u001b[39;00m\n\u001b[1;32m   2544\u001b[0m \u001b[38;5;66;03m# when using magics with decorator @output_can_be_silenced\u001b[39;00m\n\u001b[1;32m   2545\u001b[0m \u001b[38;5;66;03m# when the last Python token in the expression is a ';'.\u001b[39;00m\n\u001b[1;32m   2546\u001b[0m \u001b[38;5;28;01mif\u001b[39;00m \u001b[38;5;28mgetattr\u001b[39m(fn, magic\u001b[38;5;241m.\u001b[39mMAGIC_OUTPUT_CAN_BE_SILENCED, \u001b[38;5;28;01mFalse\u001b[39;00m):\n",
      "File \u001b[0;32m~/.local/lib/python3.11/site-packages/IPython/core/magics/script.py:155\u001b[0m, in \u001b[0;36mScriptMagics._make_script_magic.<locals>.named_script_magic\u001b[0;34m(line, cell)\u001b[0m\n\u001b[1;32m    153\u001b[0m \u001b[38;5;28;01melse\u001b[39;00m:\n\u001b[1;32m    154\u001b[0m     line \u001b[38;5;241m=\u001b[39m script\n\u001b[0;32m--> 155\u001b[0m \u001b[38;5;28;01mreturn\u001b[39;00m \u001b[38;5;28;43mself\u001b[39;49m\u001b[38;5;241;43m.\u001b[39;49m\u001b[43mshebang\u001b[49m\u001b[43m(\u001b[49m\u001b[43mline\u001b[49m\u001b[43m,\u001b[49m\u001b[43m \u001b[49m\u001b[43mcell\u001b[49m\u001b[43m)\u001b[49m\n",
      "File \u001b[0;32m~/.local/lib/python3.11/site-packages/IPython/core/magics/script.py:315\u001b[0m, in \u001b[0;36mScriptMagics.shebang\u001b[0;34m(self, line, cell)\u001b[0m\n\u001b[1;32m    310\u001b[0m \u001b[38;5;28;01mif\u001b[39;00m args\u001b[38;5;241m.\u001b[39mraise_error \u001b[38;5;129;01mand\u001b[39;00m p\u001b[38;5;241m.\u001b[39mreturncode \u001b[38;5;241m!=\u001b[39m \u001b[38;5;241m0\u001b[39m:\n\u001b[1;32m    311\u001b[0m     \u001b[38;5;66;03m# If we get here and p.returncode is still None, we must have\u001b[39;00m\n\u001b[1;32m    312\u001b[0m     \u001b[38;5;66;03m# killed it but not yet seen its return code. We don't wait for it,\u001b[39;00m\n\u001b[1;32m    313\u001b[0m     \u001b[38;5;66;03m# in case it's stuck in uninterruptible sleep. -9 = SIGKILL\u001b[39;00m\n\u001b[1;32m    314\u001b[0m     rc \u001b[38;5;241m=\u001b[39m p\u001b[38;5;241m.\u001b[39mreturncode \u001b[38;5;129;01mor\u001b[39;00m \u001b[38;5;241m-\u001b[39m\u001b[38;5;241m9\u001b[39m\n\u001b[0;32m--> 315\u001b[0m     \u001b[38;5;28;01mraise\u001b[39;00m CalledProcessError(rc, cell)\n",
      "\u001b[0;31mCalledProcessError\u001b[0m: Command 'b'!pip install sqlalchemy\\n'' returned non-zero exit status 1."
     ]
    },
    {
     "name": "stderr",
     "output_type": "stream",
     "text": [
      "\u001b[0m\u001b[33mWARNING: Retrying (Retry(total=2, connect=None, read=None, redirect=None, status=None)) after connection broken by 'NewConnectionError('<pip._vendor.urllib3.connection.HTTPSConnection object at 0x7ea94b4603e0>: Failed to establish a new connection: [Errno -3] Temporary failure in name resolution')': /simple/pymongo/\u001b[0m\u001b[33m\n"
     ]
    },
    {
     "name": "stderr",
     "output_type": "stream",
     "text": [
      "\u001b[0m\u001b[33mWARNING: Retrying (Retry(total=1, connect=None, read=None, redirect=None, status=None)) after connection broken by 'NewConnectionError('<pip._vendor.urllib3.connection.HTTPSConnection object at 0x7ea94b461620>: Failed to establish a new connection: [Errno -3] Temporary failure in name resolution')': /simple/pymongo/\u001b[0m\u001b[33m\n"
     ]
    },
    {
     "name": "stderr",
     "output_type": "stream",
     "text": [
      "\u001b[0m\u001b[33mWARNING: Retrying (Retry(total=0, connect=None, read=None, redirect=None, status=None)) after connection broken by 'NewConnectionError('<pip._vendor.urllib3.connection.HTTPSConnection object at 0x7ea94b461fe0>: Failed to establish a new connection: [Errno -3] Temporary failure in name resolution')': /simple/pymongo/\u001b[0m\u001b[33m\n"
     ]
    },
    {
     "name": "stderr",
     "output_type": "stream",
     "text": [
      "\u001b[0m\u001b[31mERROR: Could not find a version that satisfies the requirement pymongo (from versions: none)\u001b[0m\u001b[31m\n"
     ]
    },
    {
     "name": "stderr",
     "output_type": "stream",
     "text": [
      "\u001b[0m\u001b[31mERROR: No matching distribution found for pymongo\u001b[0m\u001b[31m\n"
     ]
    },
    {
     "name": "stderr",
     "output_type": "stream",
     "text": [
      "\u001b[0m"
     ]
    },
    {
     "ename": "CalledProcessError",
     "evalue": "Command 'b'!pip install sqlalchemy\\n'' returned non-zero exit status 1.",
     "output_type": "error",
     "traceback": [
      "\u001b[0;31m---------------------------------------------------------------------------\u001b[0m",
      "\u001b[0;31mCalledProcessError\u001b[0m                        Traceback (most recent call last)",
      "Cell \u001b[0;32mIn[2], line 1\u001b[0m\n\u001b[0;32m----> 1\u001b[0m \u001b[43mget_ipython\u001b[49m\u001b[43m(\u001b[49m\u001b[43m)\u001b[49m\u001b[38;5;241;43m.\u001b[39;49m\u001b[43mrun_cell_magic\u001b[49m\u001b[43m(\u001b[49m\u001b[38;5;124;43m'\u001b[39;49m\u001b[38;5;124;43mpython\u001b[39;49m\u001b[38;5;124;43m'\u001b[39;49m\u001b[43m,\u001b[49m\u001b[43m \u001b[49m\u001b[38;5;124;43m'\u001b[39;49m\u001b[38;5;124;43m-m pip install pymongo\u001b[39;49m\u001b[38;5;124;43m'\u001b[39;49m\u001b[43m,\u001b[49m\u001b[43m \u001b[49m\u001b[38;5;124;43m'\u001b[39;49m\u001b[38;5;124;43m!pip install sqlalchemy\u001b[39;49m\u001b[38;5;130;43;01m\\n\u001b[39;49;00m\u001b[38;5;124;43m'\u001b[39;49m\u001b[43m)\u001b[49m\n",
      "File \u001b[0;32m~/.local/lib/python3.11/site-packages/IPython/core/interactiveshell.py:2541\u001b[0m, in \u001b[0;36mInteractiveShell.run_cell_magic\u001b[0;34m(self, magic_name, line, cell)\u001b[0m\n\u001b[1;32m   2539\u001b[0m \u001b[38;5;28;01mwith\u001b[39;00m \u001b[38;5;28mself\u001b[39m\u001b[38;5;241m.\u001b[39mbuiltin_trap:\n\u001b[1;32m   2540\u001b[0m     args \u001b[38;5;241m=\u001b[39m (magic_arg_s, cell)\n\u001b[0;32m-> 2541\u001b[0m     result \u001b[38;5;241m=\u001b[39m \u001b[43mfn\u001b[49m\u001b[43m(\u001b[49m\u001b[38;5;241;43m*\u001b[39;49m\u001b[43margs\u001b[49m\u001b[43m,\u001b[49m\u001b[43m \u001b[49m\u001b[38;5;241;43m*\u001b[39;49m\u001b[38;5;241;43m*\u001b[39;49m\u001b[43mkwargs\u001b[49m\u001b[43m)\u001b[49m\n\u001b[1;32m   2543\u001b[0m \u001b[38;5;66;03m# The code below prevents the output from being displayed\u001b[39;00m\n\u001b[1;32m   2544\u001b[0m \u001b[38;5;66;03m# when using magics with decorator @output_can_be_silenced\u001b[39;00m\n\u001b[1;32m   2545\u001b[0m \u001b[38;5;66;03m# when the last Python token in the expression is a ';'.\u001b[39;00m\n\u001b[1;32m   2546\u001b[0m \u001b[38;5;28;01mif\u001b[39;00m \u001b[38;5;28mgetattr\u001b[39m(fn, magic\u001b[38;5;241m.\u001b[39mMAGIC_OUTPUT_CAN_BE_SILENCED, \u001b[38;5;28;01mFalse\u001b[39;00m):\n",
      "File \u001b[0;32m~/.local/lib/python3.11/site-packages/IPython/core/magics/script.py:155\u001b[0m, in \u001b[0;36mScriptMagics._make_script_magic.<locals>.named_script_magic\u001b[0;34m(line, cell)\u001b[0m\n\u001b[1;32m    153\u001b[0m \u001b[38;5;28;01melse\u001b[39;00m:\n\u001b[1;32m    154\u001b[0m     line \u001b[38;5;241m=\u001b[39m script\n\u001b[0;32m--> 155\u001b[0m \u001b[38;5;28;01mreturn\u001b[39;00m \u001b[38;5;28;43mself\u001b[39;49m\u001b[38;5;241;43m.\u001b[39;49m\u001b[43mshebang\u001b[49m\u001b[43m(\u001b[49m\u001b[43mline\u001b[49m\u001b[43m,\u001b[49m\u001b[43m \u001b[49m\u001b[43mcell\u001b[49m\u001b[43m)\u001b[49m\n",
      "File \u001b[0;32m~/.local/lib/python3.11/site-packages/IPython/core/magics/script.py:315\u001b[0m, in \u001b[0;36mScriptMagics.shebang\u001b[0;34m(self, line, cell)\u001b[0m\n\u001b[1;32m    310\u001b[0m \u001b[38;5;28;01mif\u001b[39;00m args\u001b[38;5;241m.\u001b[39mraise_error \u001b[38;5;129;01mand\u001b[39;00m p\u001b[38;5;241m.\u001b[39mreturncode \u001b[38;5;241m!=\u001b[39m \u001b[38;5;241m0\u001b[39m:\n\u001b[1;32m    311\u001b[0m     \u001b[38;5;66;03m# If we get here and p.returncode is still None, we must have\u001b[39;00m\n\u001b[1;32m    312\u001b[0m     \u001b[38;5;66;03m# killed it but not yet seen its return code. We don't wait for it,\u001b[39;00m\n\u001b[1;32m    313\u001b[0m     \u001b[38;5;66;03m# in case it's stuck in uninterruptible sleep. -9 = SIGKILL\u001b[39;00m\n\u001b[1;32m    314\u001b[0m     rc \u001b[38;5;241m=\u001b[39m p\u001b[38;5;241m.\u001b[39mreturncode \u001b[38;5;129;01mor\u001b[39;00m \u001b[38;5;241m-\u001b[39m\u001b[38;5;241m9\u001b[39m\n\u001b[0;32m--> 315\u001b[0m     \u001b[38;5;28;01mraise\u001b[39;00m CalledProcessError(rc, cell)\n",
      "\u001b[0;31mCalledProcessError\u001b[0m: Command 'b'!pip install sqlalchemy\\n'' returned non-zero exit status 1."
     ]
    }
   ],
   "source": [
    "%%python -m pip install pymongo\n",
    "!pip install sqlalchemy"
   ]
  },
  {
   "cell_type": "code",
   "execution_count": null,
   "id": "4f6848a9-ae77-4345-a6b4-d0b4c2ddcd4e",
   "metadata": {},
   "outputs": [],
   "source": [
    "import os\n",
    "import json\n",
    "import numpy\n",
    "import datetime\n",
    "import certifi\n",
    "import pandas as pd\n",
    "\n",
    "import pymongo\n",
    "import sqlalchemy\n",
    "from sqlalchemy import create_engine, text"
   ]
  },
  {
   "cell_type": "code",
   "execution_count": null,
   "id": "6c1fe82c-5dc9-4154-b3bf-b3a22b0c3dc2",
   "metadata": {},
   "outputs": [],
   "source": []
  },
  {
   "cell_type": "code",
   "execution_count": null,
   "id": "d3d3a60c-65e9-4166-8816-17d0a817f7fd",
   "metadata": {},
   "outputs": [],
   "source": [
    "print(f\"Running SQL Alchemy Version: {sqlalchemy.__version__}\")\n",
    "print(f\"Running PyMongo Version: {pymongo.__version__}\")"
   ]
  },
  {
   "cell_type": "code",
   "execution_count": null,
   "id": "60da59d8-5084-4db2-8302-317bd325f230",
   "metadata": {},
   "outputs": [],
   "source": [
    "mysql_args = {\n",
    "    \"uid\" : \"root\",\n",
    "    \"pwd\" : \"Wishbone1\",\n",
    "    \"hostname\" : \"localhost\",\n",
    "    \"dbname\" : \"grocery_inventory_db\"\n",
    "}\n",
    "\n",
    "# The 'cluster_location' must either be \"atlas\" or \"local\".\n",
    "mongodb_args = {\n",
    "    \"user_name\" : \"dorothy_philip\",\n",
    "    \"password\" : \"Wishbone1\",\n",
    "    \"cluster_name\" : \"Cluster0\",\n",
    "    \"cluster_subnet\" : \"xxxxx\",\n",
    "    \"cluster_location\" : \"local\", # \"local\"\n",
    "    \"db_name\" : \"grocery_inventory_db\"\n",
    "}"
   ]
  },
  {
   "cell_type": "code",
   "execution_count": null,
   "id": "4101c5ca-1238-4143-8144-cce5ba95ac03",
   "metadata": {},
   "outputs": [],
   "source": [
    "# Declare & Assign Connection Variables for the MySQL Server & Databases with which You'll be Working\n",
    "host_name = \"localhost\"\n",
    "port = \"3306\"\n",
    "user_id = \"root\"\n",
    "pwd = \"Wishbone1\"\n",
    "\n",
    "src_dbname = \"classicmodels\"\n",
    "dst_dbname = \"classicmodels_dw\""
   ]
  },
  {
   "cell_type": "code",
   "execution_count": null,
   "id": "3f1441c0-5d0b-4d43-9a68-9eaf9f409bc2",
   "metadata": {},
   "outputs": [],
   "source": [
    "# Fetch grocery inventory data from MySQL\n",
    "sql_query = \"SELECT * FROM grocery_inventory;\"\n",
    "grocery_df = get_sql_dataframe(sql_query, \n",
    "                               uid=\"your_username\", \n",
    "                               pwd=\"your_password\", \n",
    "                               hostname=\"your_host\", \n",
    "                               dbname=\"grocery_inventory_db\")\n",
    "\n",
    "# Get MongoDB client (Atlas or local)\n",
    "mongo_client = get_mongo_client(cluster_location=\"local\")  \n",
    "\n",
    "# Specify database and collection name\n",
    "db_name = \"grocery_db\"\n",
    "collection_name = \"grocery_inventory\"\n",
    "\n",
    "# Convert DataFrame to dictionary for MongoDB\n",
    "grocery_data = grocery_df.to_dict(orient=\"records\")\n",
    "\n",
    "# Insert data into MongoDB\n",
    "db = mongo_client[db_name]\n",
    "collection = db[collection_name]\n",
    "collection.insert_many(grocery_data)\n",
    "\n",
    "print(\"Grocery inventory data successfully inserted into MongoDB!\")\n",
    "\n",
    "# Fetch data from MongoDB to verify insertion\n",
    "query = {}  # Empty query to get all documents\n",
    "mongo_df = get_mongo_dataframe(mongo_client, db_name, collection_name, query)\n",
    "\n",
    "# Display the first 5 rows\n",
    "print(mongo_df.head())\n",
    "\n"
   ]
  },
  {
   "cell_type": "code",
   "execution_count": null,
   "id": "79f44146",
   "metadata": {},
   "outputs": [],
   "source": [
    "from sqlalchemy import create_engine, text\n",
    "\n",
    "# MySQL connection details\n",
    "mysql_args = {\n",
    "    \"user\": \"your_user\",\n",
    "    \"password\": \"your_password\",\n",
    "    \"host\": \"localhost\",\n",
    "    \"dbname\": \"grocery_inventory_db\"\n",
    "}\n",
    "\n",
    "# Establish connection\n",
    "conn_str = f\"mysql+pymysql://{mysql_args['user']}:{mysql_args['password']}@{mysql_args['host']}/{mysql_args['dbname']}\"\n",
    "sqlEngine = create_engine(conn_str)\n",
    "connection = sqlEngine.connect()\n",
    "\n",
    "# Read and execute SQL schema from file\n",
    "sql_file_path = \"DS2002_DimDateProduct.sql\"\n",
    "with open(sql_file_path, \"r\") as file:\n",
    "    sql_script = file.read()\n",
    "\n",
    "# Execute SQL schema\n",
    "try:\n",
    "    connection.execute(text(sql_script))\n",
    "    print(\"Database schema executed successfully.\")\n",
    "except Exception as e:\n",
    "    print(f\"Error executing schema: {e}\")\n",
    "\n",
    "# Close connection\n",
    "connection.close()\n"
   ]
  },
  {
   "cell_type": "code",
   "execution_count": null,
   "id": "679167c8-d629-40f9-a10d-0ddbb4719f29",
   "metadata": {},
   "outputs": [],
   "source": [
    "# Define CSV File Path and Load into MySQL\n",
    "data_dir = os.getcwd()\n",
    "data_file = os.path.join(data_dir, \"Cleaned_Grocery_Inventory.csv\")\n",
    "\n",
    "df = pd.read_csv(data_file)\n",
    "# Read CSV into Pandas DataFrame\n",
    "df = pd.read_csv(data_file)\n",
    "\n",
    "# MySQL Connection\n",
    "mysql_args = {\n",
    "    \"user\": \"your_user\",\n",
    "    \"password\": \"your_password\",\n",
    "    \"host\": \"localhost\",\n",
    "    \"dbname\": \"grocery_inventory_db\"\n",
    "}\n",
    "sqlEngine = create_engine(f\"mysql+pymysql://{mysql_args['user']}:{mysql_args['password']}@{mysql_args['host']}/{mysql_args['dbname']}\")\n",
    "\n",
    "table_name = \"grocery_inventory\"\n",
    "df.to_sql(name=table_name, con=sqlEngine, if_exists=\"replace\", index=False)\n",
    "print(f\"Data successfully inserted into `{table_name}` table in `{mysql_args['dbname']}` database.\")\n",
    "\n",
    "# Load Data into MongoDB\n",
    "client = pymongo.MongoClient(\"mongodb://localhost:27017/\")\n",
    "db = client[\"dim_date_product_db\"]"
   ]
  },
  {
   "cell_type": "code",
   "execution_count": null,
   "id": "fbf50ac2-63d4-4c2a-9e89-e2aefe6a5c80",
   "metadata": {},
   "outputs": [],
   "source": [
    "# Extract Data from MongoDB\n",
    "db = client[\"dim_date_product_db\"]\n",
    "query = {}  # Select all records\n",
    "collection = \"dim_date_product\"\n",
    "df_dim_date_product = get_mongo_dataframe(client, \"dim_date_product_db\", collection, query)\n",
    "df_dim_date_product.head(2)\n"
   ]
  },
  {
   "cell_type": "code",
   "execution_count": null,
   "id": "23f5b553-ba5a-447c-a21a-8fb9c37fad06",
   "metadata": {},
   "outputs": [],
   "source": [
    "# At this point, run the [DS2002 SQL file]\n",
    "sql_dim_date = \"SELECT date_key, full_date FROM grocery_inventory_db.dim_date;\"\n",
    "df_dim_date = get_sql_dataframe(sql_dim_date, **mysql_args)\n",
    "df_dim_date.full_date = df_dim_date.full_date.astype('datetime64[ns]').dt.date\n",
    "df_dim_date.head(10)\n"
   ]
  },
  {
   "cell_type": "code",
   "execution_count": null,
   "id": "83860535-3fac-4eab-855e-339248a68c96",
   "metadata": {},
   "outputs": [],
   "source": [
    "# Look up the Surrogate Primary Key (date_key) that corresponds to the groceryDate column\n",
    "df_dim_groceryDate = df_dim_date.rename(columns={\"date_key\": \"groceryDate_key\", \"full_date\": \"groceryDate\"})\n",
    "df_grocery_inventory.groceryDate = df_grocery_inventory.groceryDate.astype('datetime64[ns]').dt.date\n",
    "df_grocery_inventory = pd.merge(df_grocery_inventory, df_dim_groceryDate, on='groceryDate', how='left')\n",
    "df_grocery_inventory.drop(['groceryDate'], axis=1, inplace=True)\n",
    "df_grocery_inventory.head(2)"
   ]
  },
  {
   "cell_type": "code",
   "execution_count": null,
   "id": "2e417712-581f-4d57-9480-a3bfbdf8e2af",
   "metadata": {},
   "outputs": [],
   "source": [
    "# Load the transformed grocery_inventory DataFrame into the New Data Warehouse\n",
    "def set_dataframe(df, table_name, pk_column, db_operation, **args):\n",
    "    '''Create a connection to the MySQL database'''\n",
    "    conn_str = f\"mysql+pymysql://{args['uid']}:{args['pwd']}@{args['hostname']}/{args['dbname']}\"\n",
    "    sqlEngine = create_engine(conn_str, pool_recycle=3600)\n",
    "    connection = sqlEngine.connect()\n",
    "\n",
    "    print(f\"Inserting into {table_name} with primary key {pk_column}\")\n",
    "\n",
    "    # Insert or replace data\n",
    "    if db_operation == \"insert\":\n",
    "        try:\n",
    "            df.to_sql(table_name, con=connection, index=False, if_exists='append')\n",
    "            print(\"Data inserted successfully.\")\n",
    "        except Exception as e:\n",
    "            print(f\"Error inserting data into {table_name}: {e}\")\n",
    "\n",
    "        try:\n",
    "            result = connection.execute(f\"SHOW COLUMNS FROM {table_name} LIKE '{pk_column}';\")\n",
    "            if not result.fetchone():\n",
    "                print(f\"Adding primary key column {pk_column} as AUTO_INCREMENT.\")\n",
    "                connection.execute(f\"ALTER TABLE {table_name} ADD COLUMN {pk_column} INT AUTO_INCREMENT PRIMARY KEY;\")\n",
    "        except Exception as e:\n",
    "            print(f\"Error adding primary key to {table_name}: {e}\")\n",
    "\n",
    "    elif db_operation == \"replace\":\n",
    "        try:\n",
    "            df.to_sql(table_name, con=connection, index=False, if_exists='replace')\n",
    "            connection.execute(f\"ALTER TABLE {table_name} ADD PRIMARY KEY ({pk_column});\")\n",
    "            print(\"Data replaced successfully.\")\n",
    "        except Exception as e:\n",
    "            print(f\"Error replacing data into {table_name}: {e}\")\n",
    "\n",
    "    connection.close()\n"
   ]
  },
  {
   "cell_type": "code",
   "execution_count": null,
   "id": "8991fea4-970c-431f-afac-a6beb2a97821",
   "metadata": {},
   "outputs": [],
   "source": [
    "# fetching data for dimensions table"
   ]
  },
  {
   "cell_type": "code",
   "execution_count": null,
   "id": "cd388fba-55da-4cdb-8165-356e9a198a39",
   "metadata": {
    "scrolled": true
   },
   "outputs": [],
   "source": [
    "# Fetching data from grocery inventory\n",
    "sql_grocery = \"SELECT * FROM grocery_inventory_db.grocery_inventory;\"\n",
    "df_grocery = get_dataframe(user_id, pwd, host_name, src_dbname, sql_grocery)\n",
    "df_grocery.head(2)"
   ]
  },
  {
   "cell_type": "code",
   "execution_count": null,
   "id": "4df2232c-1c8c-43e0-ba3f-14aeb4d33419",
   "metadata": {},
   "outputs": [],
   "source": [
    "# Fetching data from grocery products\n",
    "sql_products = \"SELECT * FROM grocery_inventory_db.products;\"\n",
    "df_products = get_dataframe(user_id, pwd, host_name, src_dbname, sql_products)\n",
    "df_products.head(2)"
   ]
  },
  {
   "cell_type": "code",
   "execution_count": null,
   "id": "34a641cc-9072-43c5-af88-262f0c189d8a",
   "metadata": {},
   "outputs": [],
   "source": [
    "# Perform any necessary transformations"
   ]
  },
  {
   "cell_type": "code",
   "execution_count": null,
   "id": "c04b7622-7417-4833-b6df-f13eb00d60c5",
   "metadata": {
    "scrolled": true
   },
   "outputs": [],
   "source": [
    "# GROCERY INVENTORY\n",
    "\n",
    "# 1. Remove unnecessary columns\n",
    "drop_cols = ['supplier_name', 'supplier_contact', 'location', 'expiration_date']\n",
    "df_grocery.drop(drop_cols, axis=1, inplace=True)\n",
    "\n",
    "# 2. Rename \"item_id\" to \"grocery_id\" for consistency\n",
    "df_grocery.rename(columns={\"item_id\": \"grocery_id\"}, inplace=True)\n",
    "\n",
    "# 3. Insert a new primary key column\n",
    "df_grocery.insert(0, \"grocery_key\", range(1, df_grocery.shape[0] + 1))\n",
    "\n",
    "# 4. Display first 2 rows\n",
    "df_grocery.head(2)\n"
   ]
  },
  {
   "cell_type": "code",
   "execution_count": null,
   "id": "63289b53-af20-4c46-8975-db78d316cbc3",
   "metadata": {},
   "outputs": [],
   "source": [
    "# GROCERY PRODUCTS\n",
    "\n",
    "# 1. Remove unnecessary columns\n",
    "drop_cols = ['brand', 'manufacturer', 'size', 'weight']\n",
    "df_products.drop(drop_cols, axis=1, inplace=True)\n",
    "\n",
    "# 2. Rename \"product_code\" to \"product_id\"\n",
    "df_products.rename(columns={\"product_code\": \"product_id\"}, inplace=True)\n",
    "\n",
    "# 3. Insert a new primary key column\n",
    "df_products.insert(0, \"product_key\", range(1, df_products.shape[0] + 1))\n",
    "\n",
    "# 4. Display first 2 rows\n",
    "df_products.head(2)\n"
   ]
  },
  {
   "cell_type": "code",
   "execution_count": null,
   "id": "2d4d0bc2-e48e-4816-95b9-463fff72ee47",
   "metadata": {},
   "outputs": [],
   "source": [
    "# Show all tables in the database\n",
    "sql_check_table = \"SHOW TABLES;\"\n",
    "df_tables = get_dataframe(user_id, pwd, host_name, dst_dbname, sql_check_table)\n",
    "print(df_tables)\n"
   ]
  },
  {
   "cell_type": "code",
   "execution_count": null,
   "id": "018f7daa-2fa0-4412-a238-fa8f8756e612",
   "metadata": {},
   "outputs": [],
   "source": [
    "# load the Transformed DataFrames into the New Data Warehouse by Creating New Tables"
   ]
  },
  {
   "cell_type": "code",
   "execution_count": null,
   "id": "c1055228-d48d-430e-acd9-11502d645ad1",
   "metadata": {},
   "outputs": [],
   "source": [
    "db_operation = \"update\"\n",
    "\n",
    "tables = [('dim_grocery', df_grocery, 'grocery_key'),\n",
    "          ('dim_products', df_products, 'product_key')]\n"
   ]
  },
  {
   "cell_type": "code",
   "execution_count": null,
   "id": "056766c4-8648-4b2c-93e0-526fa07ccc97",
   "metadata": {},
   "outputs": [],
   "source": [
    "for table_name, dataframe, primary_key in tables:\n",
    "    set_dataframe(dataframe, table_name, primary_key, db_operation, **mysql_args)\n"
   ]
  },
  {
   "cell_type": "code",
   "execution_count": null,
   "id": "97e41c46-4983-47e0-aaa5-cea080b53b9f",
   "metadata": {},
   "outputs": [],
   "source": [
    "# creating and populating the fact table called sales_fact"
   ]
  },
  {
   "cell_type": "code",
   "execution_count": null,
   "id": "46fca70e-3f4e-4d8c-b981-ce1946d0dd5a",
   "metadata": {},
   "outputs": [],
   "source": [
    "# Show all tables in the database\n",
    "sql_check_table = \"SHOW TABLES;\"\n",
    "df_tables = get_dataframe(user_id, pwd, host_name, dst_dbname, sql_check_table)\n",
    "print(df_tables)\n"
   ]
  },
  {
   "cell_type": "code",
   "execution_count": null,
   "id": "afb14f0d-a021-4ddb-a9da-ee31b176a3d7",
   "metadata": {},
   "outputs": [],
   "source": [
    "sql_sales_fact = \"\"\"\n",
    "SELECT \n",
    "    g.grocery_key, \n",
    "    py.payment_key, \n",
    "    py.amount AS total_price,\n",
    "    py.paymentDate_key\n",
    "FROM dim_payments py\n",
    "JOIN dim_grocery g ON py.item_id = g.grocery_key\n",
    "\"\"\"\n",
    "\n",
    "df_sales_fact = get_dataframe(user_id, pwd, host_name, dst_dbname, sql_sales_fact)\n",
    "print(df_sales_fact.shape)  # Ensure data exists\n",
    "print(df_sales_fact.head(2))  # Check first 2 rows\n",
    "\n"
   ]
  },
  {
   "cell_type": "code",
   "execution_count": null,
   "id": "e2e07042-65ea-40c6-9606-cd0d2eb128c2",
   "metadata": {},
   "outputs": [],
   "source": [
    "# Insert a new primary key column\n",
    "df_sales_fact.insert(0, \"sales_fact_key\", range(1, df_sales_fact.shape[0] + 1))\n",
    "\n",
    "# Display first 2 rows\n",
    "df_sales_fact.head(2)\n"
   ]
  },
  {
   "cell_type": "code",
   "execution_count": null,
   "id": "aa6fa645-5882-4d8b-824e-8cf9f26c3ae1",
   "metadata": {},
   "outputs": [],
   "source": [
    "## Insert data into the sales_fact table\n",
    "df_sales_fact.to_sql('sales_fact', con=sqlEngine, if_exists='replace', index=False)\n",
    "\n",
    "print(\"Data successfully inserted into the sales_fact table.\")\n",
    "df_sales_fact.head(5)\n"
   ]
  },
  {
   "cell_type": "code",
   "execution_count": null,
   "id": "3a401fc0-eb49-4dbe-be3a-53a1b7a3ed4f",
   "metadata": {},
   "outputs": [],
   "source": [
    "# Ensure that the new data warehouse contains the correct data\n",
    "sql_check_dw = \"SHOW TABLES;\"\n",
    "df_dw_tables = get_dataframe(user_id, pwd, host_name, dst_dbname, sql_check_dw)\n",
    "print(df_dw_tables)"
   ]
  },
  {
   "cell_type": "code",
   "execution_count": null,
   "id": "70d6f1eb-ad46-427b-bbb5-e89e11f97215",
   "metadata": {},
   "outputs": [],
   "source": [
    "# Retrieve total sales data for each grocery item\n",
    "sql_query = \"\"\"\n",
    "SELECT \n",
    "    g.grocery_key, \n",
    "    g.item_name, \n",
    "    COUNT(sf.sales_fact_key) AS total_sales, \n",
    "    SUM(py.amount) AS total_revenue, \n",
    "    AVG(py.amount) AS avg_payment_amount\n",
    "FROM sales_fact sf\n",
    "JOIN dim_payments py ON sf.payment_key = py.payment_key\n",
    "JOIN dim_grocery g ON py.item_id = g.grocery_key\n",
    "GROUP BY g.grocery_key, g.item_name\n",
    "ORDER BY total_revenue DESC;\n",
    "\"\"\"\n",
    "\n",
    "# Execute the SQL query and load results into Pandas DataFrame\n",
    "df_total_sales_by_item = pd.read_sql(sql_query, sqlEngine)\n",
    "\n",
    "# Display first 2 rows\n",
    "print(df_total_sales_by_item.head(2))\n"
   ]
  }
 ],
 "metadata": {
  "kernelspec": {
   "display_name": "Python (Pyodide)",
   "language": "python",
   "name": "python"
  },
  "language_info": {
   "codemirror_mode": {
    "name": "ipython",
    "version": 3
   },
   "file_extension": ".py",
   "mimetype": "text/x-python",
   "name": "python",
   "nbconvert_exporter": "python",
   "pygments_lexer": "ipython3",
   "version": "3.11.8"
  }
 },
 "nbformat": 4,
 "nbformat_minor": 5
}
