{
 "cells": [
  {
   "cell_type": "code",
   "execution_count": null,
   "id": "7713e452",
   "metadata": {},
   "outputs": [],
   "source": [
    "\n",
    "%%python -m pip install pymongo\n",
    "!pip install sqlalchemy\n"
   ]
  },
  {
   "cell_type": "code",
   "execution_count": null,
   "id": "94cd65b1",
   "metadata": {},
   "outputs": [],
   "source": [
    "\n",
    "import os\n",
    "import pandas as pd\n",
    "from sqlalchemy import create_engine\n",
    "import pymongo\n"
   ]
  },
  {
   "cell_type": "code",
   "execution_count": null,
   "id": "4e524bbd",
   "metadata": {},
   "outputs": [],
   "source": [
    "\n",
    "# MySQL connection details\n",
    "mysql_args = {\n",
    "    \"user\": \"root\",\n",
    "    \"password\": os.getenv(\"MYSQL_PASSWORD\"),  # Use environment variable\n",
    "    \"host\": \"localhost\",\n",
    "    \"dbname\": \"grocery_inventory_db\"\n",
    "}\n"
   ]
  },
  {
   "cell_type": "code",
   "execution_count": null,
   "id": "c5ce29f4",
   "metadata": {},
   "outputs": [],
   "source": [
    "\n",
    "# Connect to MongoDB (local)\n",
    "client = pymongo.MongoClient('mongodb://localhost:27017/')\n",
    "db = client[\"dim_date_product_db\"]\n",
    "\n",
    "# Specify collection\n",
    "collection = db[\"dim_date_product\"]\n",
    "query = {}  # Select all records\n",
    "df_mongo = pd.DataFrame(list(collection.find(query)))\n",
    "\n",
    "# Display the first 5 rows of MongoDB data\n",
    "df_mongo.head()\n"
   ]
  },
  {
   "cell_type": "code",
   "execution_count": null,
   "id": "c72488bf",
   "metadata": {},
   "outputs": [],
   "source": [
    "\n",
    "# Create MySQL connection\n",
    "conn_str = f\"mysql+pymysql://{mysql_args['user']}:{mysql_args['password']}@{mysql_args['host']}/{mysql_args['dbname']}\"\n",
    "sqlEngine = create_engine(conn_str)\n",
    "\n",
    "# Insert data from MongoDB DataFrame into MySQL\n",
    "table_name = \"dim_date_product\"\n",
    "df_mongo.to_sql(name=table_name, con=sqlEngine, if_exists=\"replace\", index=False)\n",
    "print(f\"✅ Data successfully inserted into `{table_name}` table in `{mysql_args['dbname']}` database.\")\n"
   ]
  },
  {
   "cell_type": "code",
   "execution_count": null,
   "id": "1c477dbe",
   "metadata": {},
   "outputs": [],
   "source": [
    "\n",
    "# Verify the data inserted into MySQL\n",
    "sql_query = \"SELECT * FROM dim_date_product LIMIT 5;\"\n",
    "df_mysql = pd.read_sql(sql_query, con=sqlEngine)\n",
    "\n",
    "# Display the first 5 rows from MySQL\n",
    "df_mysql.head()\n"
   ]
  }
 ],
 "metadata": {},
 "nbformat": 4,
 "nbformat_minor": 5
}
